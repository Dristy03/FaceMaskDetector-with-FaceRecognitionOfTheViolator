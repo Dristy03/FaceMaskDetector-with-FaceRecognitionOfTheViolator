{
 "cells": [
  {
   "cell_type": "code",
   "execution_count": null,
   "metadata": {},
   "outputs": [],
   "source": [
    "from tensorflow.keras.models import Model,Sequential\n",
    "from tensorflow.keras.layers import Dense,Dropout,Flatten\n",
    "from glob import glob\n",
    "import cv2\n",
    "import matplotlib.pyplot as plt\n",
    "import os\n",
    "import numpy as np"
   ]
  },
  {
   "cell_type": "code",
   "execution_count": null,
   "metadata": {},
   "outputs": [],
   "source": [
    "from tensorflow.keras.applications.mobilenet_v2 import MobileNetV2\n",
    "base = MobileNetV2(input_shape = (128,128,3),include_top = False)"
   ]
  },
  {
   "cell_type": "code",
   "execution_count": null,
   "metadata": {},
   "outputs": [],
   "source": [
    "x = base.output\n",
    "x = Flatten()(x)\n",
    "x = Dense(256,activation = 'relu')(x)\n",
    "x = Dropout(0.3)(x)\n",
    "x = Dense(1,activation='sigmoid')(x)"
   ]
  },
  {
   "cell_type": "code",
   "execution_count": null,
   "metadata": {},
   "outputs": [],
   "source": [
    "model = Model(base.input,x)"
   ]
  },
  {
   "cell_type": "code",
   "execution_count": null,
   "metadata": {},
   "outputs": [],
   "source": [
    "model.compile('adam','binary_crossentropy',['accuracy'])"
   ]
  },
  {
   "cell_type": "code",
   "execution_count": null,
   "metadata": {},
   "outputs": [],
   "source": [
    "imgs = []\n",
    "lbls = []"
   ]
  },
  {
   "cell_type": "code",
   "execution_count": null,
   "metadata": {},
   "outputs": [],
   "source": [
    "from tensorflow.keras.preprocessing.image import load_img,img_to_array\n",
    "for i in glob('/content/Face Mask Dataset/*/WithMask/*'):\n",
    "  img = load_img(i,target_size = (128,128,3))\n",
    "  img = img_to_array(img)\n",
    "  imgs.append(img)\n",
    "  lbls.append(1)\n",
    "for i in glob('/content/Face Mask Dataset/*/WithoutMask/*'):\n",
    "  img = load_img(i,target_size = (128,128,3))\n",
    "  img = img_to_array(img)\n",
    "  imgs.append(img)\n",
    "  lbls.append(0)"
   ]
  },
  {
   "cell_type": "code",
   "execution_count": null,
   "metadata": {},
   "outputs": [],
   "source": [
    "from sklearn.model_selection import train_test_split\n",
    "imgs = np.array(imgs)\n",
    "lbls = np.array(lbls)\n",
    "trainx,testx,trainy,testy = train_test_split(imgs,lbls,stratify = lbls)"
   ]
  },
  {
   "cell_type": "code",
   "execution_count": null,
   "metadata": {},
   "outputs": [],
   "source": [
    "from tensorflow.keras.callbacks import ModelCheckpoint\n",
    "mc = ModelCheckpoint('chk',save_best_only=True)"
   ]
  },
  {
   "cell_type": "code",
   "execution_count": null,
   "metadata": {},
   "outputs": [],
   "source": [
    "hist = model.fit(trainx,trainy,validation_data=(testx,testy),epochs = 10,batch_size = 128,callbacks=[mc])\n"
   ]
  },
  {
   "cell_type": "code",
   "execution_count": null,
   "metadata": {},
   "outputs": [],
   "source": [
    "valx = []\n",
    "valy = []\n",
    "for i in glob('Validation/WithMask/*'):\n",
    "  img = load_img(i,target_size=(128,128,3))\n",
    "  img = img_to_array(img)\n",
    "  valx.append(img)\n",
    "  valy.append(1)\n",
    "for i in glob('Validation/WithoutMask/*'):\n",
    "  img = load_img(i,target_size=(128,128,3))\n",
    "  img = img_to_array(img)\n",
    "  valx.append(img)\n",
    "  valy.append(0)\n",
    "valx = np.array(valx)\n",
    "valy = np.array(valy)"
   ]
  },
  {
   "cell_type": "code",
   "execution_count": null,
   "metadata": {},
   "outputs": [],
   "source": [
    "model.evaluate(valx,valy,steps = 30)\n"
   ]
  },
  {
   "cell_type": "code",
   "execution_count": null,
   "metadata": {},
   "outputs": [],
   "source": [
    "import matplotlib as mpl\n",
    "mpl.rcParams.update({'font.size':16})\n",
    "plt.figure(figsize = (10,6))\n",
    "plt.plot(hist.history['accuracy'],label = 'Train')\n",
    "plt.plot(hist.history['val_accuracy'],label = 'Test')\n",
    "plt.title('Training v/s Testing accuracy with successive epochs')\n",
    "plt.xlabel('Epochs')\n",
    "#plt.yticks((0.94,1))\n",
    "plt.ylabel('Accuracy')\n",
    "plt.legend()"
   ]
  },
  {
   "cell_type": "code",
   "execution_count": null,
   "metadata": {},
   "outputs": [],
   "source": [
    "plt.figure(figsize = (10,6))\n",
    "plt.plot(hist.history['loss'],label = 'Train')\n",
    "plt.plot(hist.history['val_loss'],label = 'Test')\n",
    "plt.title('Training v/s Testing Loss with successive epochs')\n",
    "plt.xlabel('Epochs')\n",
    "plt.ylabel('Accuracy')\n",
    "plt.legend()"
   ]
  },
  {
   "cell_type": "code",
   "execution_count": null,
   "metadata": {},
   "outputs": [],
   "source": [
    "clf = cv2.CascadeClassifier('haarcascade_frontalface_alt2.xml')\n"
   ]
  },
  {
   "cell_type": "code",
   "execution_count": null,
   "metadata": {},
   "outputs": [],
   "source": [
    "img = cv2.imread('index.jpeg')\n",
    "boxes = clf.detectMultiScale(img,1.01,5)\n",
    "for box in boxes:\n",
    "  (x,y,w,h) = box\n",
    "  im = img[y:y+h,x:x+w]\n",
    "  im = cv2.resize(im,(128,128))\n",
    "  pred = model.predict(np.array([im]))\n",
    "  if pred.round()==0:\n",
    "    cv2.rectangle(img,(x,y),(x+w,y+h),(255,0,0),1)\n",
    "    cv2.putText(img,'No Mask',(x,y),cv2.FONT_HERSHEY_COMPLEX_SMALL,1,(0,0,255),1)\n",
    "  else:\n",
    "    cv2.rectangle(img,(x,y),(x+w,y+h),(0,255,0),1)\n",
    "    cv2.putText(img,'Mask',(x,y),cv2.FONT_HERSHEY_COMPLEX_SMALL,1,(0,0,255),1)\n",
    "plt.imshow(img)"
   ]
  }
 ],
 "metadata": {
  "language_info": {
   "name": "python"
  },
  "orig_nbformat": 4
 },
 "nbformat": 4,
 "nbformat_minor": 2
}
