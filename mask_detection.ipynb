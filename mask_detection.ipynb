{
  "cells": [
    {
      "cell_type": "code",
      "execution_count": null,
      "metadata": {
        "id": "MfkkEyrLNVGW"
      },
      "outputs": [],
      "source": [
        "import numpy as np\n",
        "import pandas as pd\n",
        "import os\n",
        "import matplotlib.pyplot as plt\n",
        "import matplotlib.patches as patches\n",
        "import cv2\n",
        "from sklearn.preprocessing import LabelEncoder\n",
        "from tensorflow.keras.utils import to_categorical, normalize\n",
        "from tensorflow.keras.layers import Flatten, Dense, Conv2D, MaxPooling2D, Dropout\n",
        "from tensorflow.keras.models import Sequential\n",
        "from tensorflow.keras.optimizers import Adam\n",
        "from mtcnn import MTCNN"
      ]
    },
    {
      "cell_type": "code",
      "execution_count": null,
      "metadata": {
        "colab": {
          "base_uri": "https://localhost:8080/",
          "height": 206
        },
        "id": "l8kY8_TSNVrD",
        "outputId": "67cced7a-36f4-462d-e79b-5b06c5018994"
      },
      "outputs": [
        {
          "data": {
            "text/html": [
              "\n",
              "  <div id=\"df-edec4279-052b-4dcb-9bcf-d770997fff06\">\n",
              "    <div class=\"colab-df-container\">\n",
              "      <div>\n",
              "<style scoped>\n",
              "    .dataframe tbody tr th:only-of-type {\n",
              "        vertical-align: middle;\n",
              "    }\n",
              "\n",
              "    .dataframe tbody tr th {\n",
              "        vertical-align: top;\n",
              "    }\n",
              "\n",
              "    .dataframe thead th {\n",
              "        text-align: right;\n",
              "    }\n",
              "</style>\n",
              "<table border=\"1\" class=\"dataframe\">\n",
              "  <thead>\n",
              "    <tr style=\"text-align: right;\">\n",
              "      <th></th>\n",
              "      <th>name</th>\n",
              "      <th>x1</th>\n",
              "      <th>x2</th>\n",
              "      <th>y1</th>\n",
              "      <th>y2</th>\n",
              "      <th>classname</th>\n",
              "    </tr>\n",
              "  </thead>\n",
              "  <tbody>\n",
              "    <tr>\n",
              "      <th>0</th>\n",
              "      <td>2756.png</td>\n",
              "      <td>69</td>\n",
              "      <td>126</td>\n",
              "      <td>294</td>\n",
              "      <td>392</td>\n",
              "      <td>face_with_mask</td>\n",
              "    </tr>\n",
              "    <tr>\n",
              "      <th>1</th>\n",
              "      <td>2756.png</td>\n",
              "      <td>505</td>\n",
              "      <td>10</td>\n",
              "      <td>723</td>\n",
              "      <td>283</td>\n",
              "      <td>face_with_mask</td>\n",
              "    </tr>\n",
              "    <tr>\n",
              "      <th>2</th>\n",
              "      <td>2756.png</td>\n",
              "      <td>75</td>\n",
              "      <td>252</td>\n",
              "      <td>264</td>\n",
              "      <td>390</td>\n",
              "      <td>mask_colorful</td>\n",
              "    </tr>\n",
              "    <tr>\n",
              "      <th>3</th>\n",
              "      <td>2756.png</td>\n",
              "      <td>521</td>\n",
              "      <td>136</td>\n",
              "      <td>711</td>\n",
              "      <td>277</td>\n",
              "      <td>mask_colorful</td>\n",
              "    </tr>\n",
              "    <tr>\n",
              "      <th>4</th>\n",
              "      <td>6098.jpg</td>\n",
              "      <td>360</td>\n",
              "      <td>85</td>\n",
              "      <td>728</td>\n",
              "      <td>653</td>\n",
              "      <td>face_no_mask</td>\n",
              "    </tr>\n",
              "  </tbody>\n",
              "</table>\n",
              "</div>\n",
              "      <button class=\"colab-df-convert\" onclick=\"convertToInteractive('df-edec4279-052b-4dcb-9bcf-d770997fff06')\"\n",
              "              title=\"Convert this dataframe to an interactive table.\"\n",
              "              style=\"display:none;\">\n",
              "        \n",
              "  <svg xmlns=\"http://www.w3.org/2000/svg\" height=\"24px\"viewBox=\"0 0 24 24\"\n",
              "       width=\"24px\">\n",
              "    <path d=\"M0 0h24v24H0V0z\" fill=\"none\"/>\n",
              "    <path d=\"M18.56 5.44l.94 2.06.94-2.06 2.06-.94-2.06-.94-.94-2.06-.94 2.06-2.06.94zm-11 1L8.5 8.5l.94-2.06 2.06-.94-2.06-.94L8.5 2.5l-.94 2.06-2.06.94zm10 10l.94 2.06.94-2.06 2.06-.94-2.06-.94-.94-2.06-.94 2.06-2.06.94z\"/><path d=\"M17.41 7.96l-1.37-1.37c-.4-.4-.92-.59-1.43-.59-.52 0-1.04.2-1.43.59L10.3 9.45l-7.72 7.72c-.78.78-.78 2.05 0 2.83L4 21.41c.39.39.9.59 1.41.59.51 0 1.02-.2 1.41-.59l7.78-7.78 2.81-2.81c.8-.78.8-2.07 0-2.86zM5.41 20L4 18.59l7.72-7.72 1.47 1.35L5.41 20z\"/>\n",
              "  </svg>\n",
              "      </button>\n",
              "      \n",
              "  <style>\n",
              "    .colab-df-container {\n",
              "      display:flex;\n",
              "      flex-wrap:wrap;\n",
              "      gap: 12px;\n",
              "    }\n",
              "\n",
              "    .colab-df-convert {\n",
              "      background-color: #E8F0FE;\n",
              "      border: none;\n",
              "      border-radius: 50%;\n",
              "      cursor: pointer;\n",
              "      display: none;\n",
              "      fill: #1967D2;\n",
              "      height: 32px;\n",
              "      padding: 0 0 0 0;\n",
              "      width: 32px;\n",
              "    }\n",
              "\n",
              "    .colab-df-convert:hover {\n",
              "      background-color: #E2EBFA;\n",
              "      box-shadow: 0px 1px 2px rgba(60, 64, 67, 0.3), 0px 1px 3px 1px rgba(60, 64, 67, 0.15);\n",
              "      fill: #174EA6;\n",
              "    }\n",
              "\n",
              "    [theme=dark] .colab-df-convert {\n",
              "      background-color: #3B4455;\n",
              "      fill: #D2E3FC;\n",
              "    }\n",
              "\n",
              "    [theme=dark] .colab-df-convert:hover {\n",
              "      background-color: #434B5C;\n",
              "      box-shadow: 0px 1px 3px 1px rgba(0, 0, 0, 0.15);\n",
              "      filter: drop-shadow(0px 1px 2px rgba(0, 0, 0, 0.3));\n",
              "      fill: #FFFFFF;\n",
              "    }\n",
              "  </style>\n",
              "\n",
              "      <script>\n",
              "        const buttonEl =\n",
              "          document.querySelector('#df-edec4279-052b-4dcb-9bcf-d770997fff06 button.colab-df-convert');\n",
              "        buttonEl.style.display =\n",
              "          google.colab.kernel.accessAllowed ? 'block' : 'none';\n",
              "\n",
              "        async function convertToInteractive(key) {\n",
              "          const element = document.querySelector('#df-edec4279-052b-4dcb-9bcf-d770997fff06');\n",
              "          const dataTable =\n",
              "            await google.colab.kernel.invokeFunction('convertToInteractive',\n",
              "                                                     [key], {});\n",
              "          if (!dataTable) return;\n",
              "\n",
              "          const docLinkHtml = 'Like what you see? Visit the ' +\n",
              "            '<a target=\"_blank\" href=https://colab.research.google.com/notebooks/data_table.ipynb>data table notebook</a>'\n",
              "            + ' to learn more about interactive tables.';\n",
              "          element.innerHTML = '';\n",
              "          dataTable['output_type'] = 'display_data';\n",
              "          await google.colab.output.renderOutput(dataTable, element);\n",
              "          const docLink = document.createElement('div');\n",
              "          docLink.innerHTML = docLinkHtml;\n",
              "          element.appendChild(docLink);\n",
              "        }\n",
              "      </script>\n",
              "    </div>\n",
              "  </div>\n",
              "  "
            ],
            "text/plain": [
              "       name   x1   x2   y1   y2       classname\n",
              "0  2756.png   69  126  294  392  face_with_mask\n",
              "1  2756.png  505   10  723  283  face_with_mask\n",
              "2  2756.png   75  252  264  390   mask_colorful\n",
              "3  2756.png  521  136  711  277   mask_colorful\n",
              "4  6098.jpg  360   85  728  653    face_no_mask"
            ]
          },
          "execution_count": 5,
          "metadata": {},
          "output_type": "execute_result"
        }
      ],
      "source": [
        "train = pd.read_csv(\"data/train.csv\")\n",
        "train.head()"
      ]
    },
    {
      "cell_type": "code",
      "execution_count": null,
      "metadata": {
        "id": "H4FcVWwYV6PP"
      },
      "outputs": [],
      "source": [
        "options = [\"face_with_mask\", \"face_no_mask\"]\n",
        "train = train[train[\"classname\"].isin(options)].reset_index(drop=True)\n",
        "train.sort_values(\"name\", axis=0, inplace=True)"
      ]
    },
    {
      "cell_type": "code",
      "execution_count": null,
      "metadata": {
        "colab": {
          "base_uri": "https://localhost:8080/",
          "height": 284
        },
        "id": "Agcn31PnWDCi",
        "outputId": "cfcee4e6-26ad-4a23-b5bd-3e4b07d49aa1"
      },
      "outputs": [
        {
          "data": {
            "text/plain": [
              "<BarContainer object of 2 artists>"
            ]
          },
          "execution_count": 7,
          "metadata": {},
          "output_type": "execute_result"
        },
        {
          "data": {
            "image/png": "[encoded data removed]",
            "text/plain": [
              "<Figure size 432x288 with 1 Axes>"
            ]
          },
          "metadata": {
            "needs_background": "light"
          },
          "output_type": "display_data"
        }
      ],
      "source": [
        "x_axis_val = [\"face_with_mask\", \"face_no_mask\"]\n",
        "y_axis_val = train.classname.value_counts()\n",
        "plt.bar(x_axis_val, y_axis_val)"
      ]
    },
    {
      "cell_type": "code",
      "execution_count": null,
      "metadata": {
        "colab": {
          "base_uri": "https://localhost:8080/"
        },
        "id": "wWsNe3k-WGoP",
        "outputId": "8ae5efe5-adf5-4f79-e687-97a13cd2fea1"
      },
      "outputs": [
        {
          "name": "stdout",
          "output_type": "stream",
          "text": [
            "['0175.jpg', '0064.jpg', '0041.jpg', '0206.jpg', '0066.jpg']\n"
          ]
        }
      ],
      "source": [
        "images_file_path = \"data/images/\"\n",
        "image_filenames = os.listdir(images_file_path)\n",
        "print(image_filenames[:5])"
      ]
    },
    {
      "cell_type": "code",
      "execution_count": null,
      "metadata": {
        "id": "a8yKdYXMa4_Y"
      },
      "outputs": [],
      "source": [
        "\n",
        "sample_image_name = train.iloc[0][\"name\"]\n",
        "sample_image_file_path = images_file_path + sample_image_name\n",
        "\n",
        "sel_df = train[train[\"name\"] == sample_image_name]\n",
        "\n",
        "bboxes = sel_df[[\"x1\", \"x2\", \"y1\", \"y2\"]].values.tolist()\n",
        "\n",
        "fig, ax = plt.subplots()\n",
        "\n",
        "img = plt.imread(sample_image_file_path)\n",
        "\n",
        "ax.imshow(img)\n",
        "\n",
        "for box in bboxes:\n",
        "    x1, x2, y1, y2 = box\n",
        "\n",
        "    xy = (x1, x2)\n",
        "\n",
        "    width = y1 - x1\n",
        "\n",
        "    height = y2 - x2\n",
        "    rect = patches.Rectangle(\n",
        "        xy,\n",
        "        width,\n",
        "        height,\n",
        "        linewidth=2,\n",
        "        edgecolor=\"r\",\n",
        "        facecolor=\"none\",\n",
        "    )\n",
        "    ax.add_patch(rect)"
      ]
    },
    {
      "cell_type": "code",
      "execution_count": null,
      "metadata": {
        "id": "pszbQAM9nq4j"
      },
      "outputs": [],
      "source": [
        "mg_size = 50\n",
        "data = []\n",
        "for index, row in train.iterrows():\n",
        "\n",
        "    name, x1, x2, y1, y2, classname = row.values\n",
        "\n",
        "    full_file_path = images_file_path + name\n",
        "\n",
        "    img_array = cv2.imread(full_file_path, cv2.IMREAD_GRAYSCALE)\n",
        "\n",
        "    crop_image = img_array[x2:y2, x1:y1]\n",
        "\n",
        "    new_img_array = cv2.resize(crop_image, (img_size, img_size))\n",
        "\n",
        "    data.append([new_img_array, classname])\n",
        "\n",
        "plt.imshow(data[0][0], cmap=\"gray\")"
      ]
    },
    {
      "cell_type": "code",
      "execution_count": null,
      "metadata": {
        "id": "ngO8p3aqd5Ls"
      },
      "outputs": [],
      "source": [
        "x = []\n",
        "y = []\n",
        "for features, labels in data:\n",
        "    x.append(features)\n",
        "    y.append(labels)"
      ]
    },
    {
      "cell_type": "code",
      "execution_count": null,
      "metadata": {
        "id": "4cBxw5KpeBI3"
      },
      "outputs": [],
      "source": [
        "x = np.array(x).reshape(-1, 50, 50, 1)\n",
        "x = normalize(x, axis=1)\n",
        "\n",
        "lbl = LabelEncoder()\n",
        "y = lbl.fit_transform(y)\n",
        "\n",
        "y = to_categorical(y)"
      ]
    },
    {
      "cell_type": "code",
      "execution_count": null,
      "metadata": {
        "id": "0XVm48z8eEE0"
      },
      "outputs": [],
      "source": [
        "input_img_shape = x.shape[1:]\n",
        "print(input_img_shape)\n"
      ]
    },
    {
      "cell_type": "code",
      "execution_count": null,
      "metadata": {
        "id": "oNip0QsaeKmM"
      },
      "outputs": [],
      "source": [
        "\n",
        "model = Sequential()\n",
        "\n",
        "model.add(\n",
        "    Conv2D(\n",
        "        filters=100,\n",
        "        kernel_size=(3, 3),\n",
        "        use_bias=True,\n",
        "        input_shape=input_img_shape,\n",
        "        activation=\"relu\",\n",
        "        strides=2,\n",
        "    )\n",
        ")\n",
        "\n",
        "model.add(MaxPooling2D(pool_size=(2, 2)))\n",
        "\n",
        "model.add(Conv2D(filters=64, kernel_size=(3, 3), use_bias=True, activation=\"relu\"))\n",
        "\n",
        "model.add(MaxPooling2D(pool_size=(2, 2)))\n",
        "\n",
        "model.add(Flatten())\n",
        "\n",
        "model.add(Dense(50, activation=\"relu\"))\n",
        "\n",
        "model.add(Dropout(0.2))\n",
        "\n",
        "model.add(Dense(2, activation=\"softmax\"))\n",
        "\n",
        "model.summary()"
      ]
    },
    {
      "cell_type": "code",
      "execution_count": null,
      "metadata": {
        "id": "ri-hKGA4eOB1"
      },
      "outputs": [],
      "source": [
        "\n",
        "opt = Adam(lr=1e-3, decay=1e-5)\n",
        "\n",
        "model.compile(optimizer=opt, loss=\"categorical_crossentropy\", metrics=[\"accuracy\"])\n",
        "\n",
        "model.fit(x, y, epochs=30, batch_size=5)"
      ]
    },
    {
      "cell_type": "code",
      "execution_count": null,
      "metadata": {
        "id": "bBiYfgP5eQ5G"
      },
      "outputs": [],
      "source": [
        "\n",
        "test_image_file_path = \"sample_test_images/0001.jpg\"\n",
        "\n",
        "img = plt.imread(test_image_file_path)\n",
        "\n",
        "plt.imshow(img)"
      ]
    },
    {
      "cell_type": "code",
      "execution_count": null,
      "metadata": {
        "id": "_msQ2bnqeTzF"
      },
      "outputs": [],
      "source": [
        "\n",
        "detector = MTCNN()\n",
        "\n",
        "faces = detector.detect_faces(img)\n",
        "print(faces)\n"
      ]
    },
    {
      "cell_type": "code",
      "execution_count": null,
      "metadata": {
        "id": "0lmApVi8eWfB"
      },
      "outputs": [],
      "source": [
        "\n",
        "img_array = cv2.imread(test_image_file_path, cv2.IMREAD_GRAYSCALE)\n",
        "\n",
        "detector = MTCNN()\n",
        "\n",
        "faces = detector.detect_faces(img)\n",
        "\n",
        "x1, x2, width, height = faces[0][\"box\"]\n",
        "\n",
        "crop_image = img_array[x2 : x2 + height, x1 : x1 + width]\n",
        "\n",
        "new_img_array = cv2.resize(crop_image, (img_size, img_size))\n",
        "\n",
        "plt.imshow(new_img_array, cmap=\"gray\")"
      ]
    },
    {
      "cell_type": "code",
      "execution_count": null,
      "metadata": {
        "id": "TQTn5PbneZHn"
      },
      "outputs": [],
      "source": [
        "\n",
        "x = new_img_array.reshape(-1, 50, 50, 1)\n",
        "\n",
        "x = normalize(x, axis=1)"
      ]
    },
    {
      "cell_type": "code",
      "execution_count": null,
      "metadata": {
        "id": "XNjUnRc9eb_N"
      },
      "outputs": [],
      "source": [
        "prediction = model.predict(x)\n",
        "print(prediction)"
      ]
    },
    {
      "cell_type": "code",
      "execution_count": null,
      "metadata": {
        "id": "y8b0QU9PeefR"
      },
      "outputs": [],
      "source": [
        "\n",
        "np.argmax(prediction)"
      ]
    }
  ],
  "metadata": {
    "colab": {
      "provenance": []
    },
    "kernelspec": {
      "display_name": "Python 3",
      "name": "python3"
    },
    "language_info": {
      "name": "python"
    }
  },
  "nbformat": 4,
  "nbformat_minor": 0
}
