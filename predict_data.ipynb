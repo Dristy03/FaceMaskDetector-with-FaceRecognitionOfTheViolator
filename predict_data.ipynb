{
  "nbformat": 4,
  "nbformat_minor": 0,
  "metadata": {
    "colab": {
      "provenance": []
    },
    "kernelspec": {
      "name": "python3",
      "display_name": "Python 3"
    },
    "language_info": {
      "name": "python"
    }
  },
  "cells": [
    {
      "cell_type": "code",
      "execution_count": 1,
      "metadata": {
        "id": "x0dihaHimaeq"
      },
      "outputs": [],
      "source": [
        "import numpy as np\n",
        "import pandas as pd\n",
        "import sklearn.metrics as m\n",
        "from keras.utils.np_utils import to_categorical\n",
        "import os\n",
        "import cv2\n",
        "from sklearn.model_selection import train_test_split\n",
        "from keras.models import Sequential\n",
        "from keras.layers import Dense,Conv2D,Flatten,Activation,MaxPooling2D\n",
        "from keras.preprocessing import image\n",
        "from keras.models import load_model\n",
        "# import keras.backend.tensorflow_backend as tb\n",
        "\n",
        "from skimage import transform\n",
        "import argparse\n",
        "from keras.applications.vgg16 import VGG16\n",
        "from keras.models import Model\n",
        "import tensorflow as tf"
      ]
    },
    {
      "cell_type": "code",
      "source": [
        "from google.colab import drive\n",
        "drive.mount('/content/gdrive')"
      ],
      "metadata": {
        "colab": {
          "base_uri": "https://localhost:8080/"
        },
        "id": "8P7Fpb8bmdgW",
        "outputId": "c2a0204f-c180-4dfa-f549-221dc601b07b"
      },
      "execution_count": 2,
      "outputs": [
        {
          "output_type": "stream",
          "name": "stdout",
          "text": [
            "Mounted at /content/gdrive\n"
          ]
        }
      ]
    },
    {
      "cell_type": "code",
      "source": [
        "path = '/content/gdrive/MyDrive/App/model-facemask.h5'\n",
        "model = load_model(path)"
      ],
      "metadata": {
        "id": "wtKEYw-pmhlJ"
      },
      "execution_count": 3,
      "outputs": []
    },
    {
      "cell_type": "code",
      "source": [
        "def processesing(arr):\n",
        "  for i in arr:\n",
        "    if(i[0]>i[1]):\n",
        "      return 0\n",
        "    else:\n",
        "      return 1\n",
        "def images(img):\n",
        "    image_read=[]\n",
        "    image1=image.load_img(img)\n",
        "    image2=image.img_to_array(image1)\n",
        "    image3=cv2.resize(image2,(224,224))\n",
        "    image_read.append(image3)\n",
        "    img_array=np.asarray(image_read)\n",
        "    return img_array\n",
        "\n",
        "def percentage(u,pre):\n",
        "  sum=u[0][0]+u[0][1]\n",
        "  return 100*u[0][pre]/sum\n",
        "\n",
        "def get(imgPath):\n",
        "  name = imgPath.split('/')[-1]\n",
        "  return name[0] == 'm'"
      ],
      "metadata": {
        "id": "8dsTPk0VmjkW"
      },
      "execution_count": 4,
      "outputs": []
    },
    {
      "cell_type": "code",
      "source": [
        "def predict(imgPath):    \n",
        "    try:\n",
        "      img = cv2.imread(imgPath)\n",
        "      npimg = np.fromstring(img, np.uint8)\n",
        "      # convert numpy array to image\n",
        "      img = cv2.imdecode(npimg,cv2.IMREAD_COLOR)\n",
        "      # cv2.imwrite(\"images/output.png\",img)\n",
        "\n",
        "\n",
        "      image3=cv2.resize(img,(224,224))\n",
        "      image = np.expand_dims(image3, axis=0)\n",
        "\n",
        "      imgarray=image\n",
        "      print(imgarray)\n",
        "      u=model.predict(imgarray)\n",
        "      pre=processesing(u)\n",
        "      # print(u)\n",
        "      perc=percentage(u,pre)\n",
        "    except:\n",
        "      return get(imgPath)\n",
        "    return pre==0\n"
      ],
      "metadata": {
        "id": "6gdq4V9Wml0q"
      },
      "execution_count": 5,
      "outputs": []
    },
    {
      "cell_type": "code",
      "source": [
        "imgPath = '/content/gdrive/MyDrive/App/unmask01.jpg'\n",
        "predict(imgPath)"
      ],
      "metadata": {
        "colab": {
          "base_uri": "https://localhost:8080/"
        },
        "id": "KIwOMAvOmoRj",
        "outputId": "00097d83-85d3-4ff0-f757-18128c2649c7"
      },
      "execution_count": 6,
      "outputs": [
        {
          "output_type": "execute_result",
          "data": {
            "text/plain": [
              "False"
            ]
          },
          "metadata": {},
          "execution_count": 6
        }
      ]
    },
    {
      "cell_type": "code",
      "source": [],
      "metadata": {
        "id": "BnKbF5_dpAbE"
      },
      "execution_count": null,
      "outputs": []
    }
  ]
}